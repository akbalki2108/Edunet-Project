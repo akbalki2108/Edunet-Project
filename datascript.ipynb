{
 "cells": [
  {
   "cell_type": "code",
   "execution_count": 1,
   "metadata": {},
   "outputs": [],
   "source": [
    "import sqlite3\n"
   ]
  },
  {
   "cell_type": "code",
   "execution_count": 8,
   "metadata": {},
   "outputs": [],
   "source": [
    "connection = sqlite3.connect('db.sqlite3')\n",
    "\n"
   ]
  },
  {
   "cell_type": "code",
   "execution_count": 9,
   "metadata": {},
   "outputs": [],
   "source": [
    "cursor = connection.cursor()\n"
   ]
  },
  {
   "cell_type": "code",
   "execution_count": 10,
   "metadata": {},
   "outputs": [],
   "source": [
    "cursor.execute(\"SELECT * FROM zomato_restaurant Limit 10\")\n",
    "rows = cursor.fetchall()\n"
   ]
  },
  {
   "cell_type": "code",
   "execution_count": 11,
   "metadata": {},
   "outputs": [
    {
     "name": "stdout",
     "output_type": "stream",
     "text": [
      "Hey\n"
     ]
    }
   ],
   "source": [
    "print(\"Hey\")\n",
    "for row in rows:\n",
    "    print(row)"
   ]
  },
  {
   "cell_type": "code",
   "execution_count": 5,
   "metadata": {},
   "outputs": [],
   "source": [
    "import pandas as pd\n",
    "\n",
    "def insert_data_from_csv(cursor, csv_file):\n",
    "    count = 0\n",
    "    df = pd.read_csv(csv_file)\n",
    "    for _, row in df.iterrows():\n",
    "        if count == 10000:\n",
    "            break\n",
    "        count = count + 1\n",
    "        cursor.execute('''INSERT INTO zomato_restaurant (\n",
    "                            url, name, online_order, book_table, rate, votes,\n",
    "                            location, rest_type, cuisines, cost2plates, listed_in_type,\n",
    "                            area, ratings, reviews, count, sentiments, summaries,\n",
    "                            sentiment_label, index_f\n",
    "                        ) VALUES (?, ?, ?, ?, ?, ?, ?, ?, ?, ?, ?, ?, ?, ?, ?, ?, ?, ?, ?)''',\n",
    "                        (\n",
    "                            row['url'], row['name'], row['online_order'], row['book_table'],\n",
    "                            row['rate'], int(row['votes']), row['location'], row['rest_type'],\n",
    "                            row['cuisines'], float(row['cost2plates']), row['listed_in_type'],\n",
    "                            row['area'], row['ratings'], row['reviews'], int(row['count']),\n",
    "                            row['sentiments'], row['summaries'], row['sentiment_label'], int(row['index'])\n",
    "                        ))\n"
   ]
  },
  {
   "cell_type": "code",
   "execution_count": 6,
   "metadata": {},
   "outputs": [
    {
     "ename": "OperationalError",
     "evalue": "no such table: zomato_restaurant",
     "output_type": "error",
     "traceback": [
      "\u001b[1;31m---------------------------------------------------------------------------\u001b[0m",
      "\u001b[1;31mOperationalError\u001b[0m                          Traceback (most recent call last)",
      "Cell \u001b[1;32mIn[6], line 1\u001b[0m\n\u001b[1;32m----> 1\u001b[0m insert_data_from_csv(cursor, \u001b[38;5;124m'\u001b[39m\u001b[38;5;124mzomato_cleaned.csv\u001b[39m\u001b[38;5;124m'\u001b[39m)\n",
      "Cell \u001b[1;32mIn[5], line 7\u001b[0m, in \u001b[0;36minsert_data_from_csv\u001b[1;34m(cursor, csv_file)\u001b[0m\n\u001b[0;32m      5\u001b[0m df \u001b[38;5;241m=\u001b[39m pd\u001b[38;5;241m.\u001b[39mread_csv(csv_file)\n\u001b[0;32m      6\u001b[0m \u001b[38;5;28;01mfor\u001b[39;00m _, row \u001b[38;5;129;01min\u001b[39;00m df\u001b[38;5;241m.\u001b[39miterrows():\n\u001b[1;32m----> 7\u001b[0m     cursor\u001b[38;5;241m.\u001b[39mexecute(\u001b[38;5;124m'''\u001b[39m\u001b[38;5;124mINSERT INTO zomato_restaurant (\u001b[39m\n\u001b[0;32m      8\u001b[0m \u001b[38;5;124m                        url, name, online_order, book_table, rate, votes,\u001b[39m\n\u001b[0;32m      9\u001b[0m \u001b[38;5;124m                        location, rest_type, cuisines, cost2plates, listed_in_type,\u001b[39m\n\u001b[0;32m     10\u001b[0m \u001b[38;5;124m                        area, ratings, reviews, count, sentiments, summaries,\u001b[39m\n\u001b[0;32m     11\u001b[0m \u001b[38;5;124m                        sentiment_label, index_f\u001b[39m\n\u001b[0;32m     12\u001b[0m \u001b[38;5;124m                    ) VALUES (?, ?, ?, ?, ?, ?, ?, ?, ?, ?, ?, ?, ?, ?, ?, ?, ?, ?, ?)\u001b[39m\u001b[38;5;124m'''\u001b[39m,\n\u001b[0;32m     13\u001b[0m                     (\n\u001b[0;32m     14\u001b[0m                         row[\u001b[38;5;124m'\u001b[39m\u001b[38;5;124murl\u001b[39m\u001b[38;5;124m'\u001b[39m], row[\u001b[38;5;124m'\u001b[39m\u001b[38;5;124mname\u001b[39m\u001b[38;5;124m'\u001b[39m], row[\u001b[38;5;124m'\u001b[39m\u001b[38;5;124monline_order\u001b[39m\u001b[38;5;124m'\u001b[39m], row[\u001b[38;5;124m'\u001b[39m\u001b[38;5;124mbook_table\u001b[39m\u001b[38;5;124m'\u001b[39m],\n\u001b[0;32m     15\u001b[0m                         row[\u001b[38;5;124m'\u001b[39m\u001b[38;5;124mrate\u001b[39m\u001b[38;5;124m'\u001b[39m], \u001b[38;5;28mint\u001b[39m(row[\u001b[38;5;124m'\u001b[39m\u001b[38;5;124mvotes\u001b[39m\u001b[38;5;124m'\u001b[39m]), row[\u001b[38;5;124m'\u001b[39m\u001b[38;5;124mlocation\u001b[39m\u001b[38;5;124m'\u001b[39m], row[\u001b[38;5;124m'\u001b[39m\u001b[38;5;124mrest_type\u001b[39m\u001b[38;5;124m'\u001b[39m],\n\u001b[0;32m     16\u001b[0m                         row[\u001b[38;5;124m'\u001b[39m\u001b[38;5;124mcuisines\u001b[39m\u001b[38;5;124m'\u001b[39m], \u001b[38;5;28mfloat\u001b[39m(row[\u001b[38;5;124m'\u001b[39m\u001b[38;5;124mcost2plates\u001b[39m\u001b[38;5;124m'\u001b[39m]), row[\u001b[38;5;124m'\u001b[39m\u001b[38;5;124mlisted_in_type\u001b[39m\u001b[38;5;124m'\u001b[39m],\n\u001b[0;32m     17\u001b[0m                         row[\u001b[38;5;124m'\u001b[39m\u001b[38;5;124marea\u001b[39m\u001b[38;5;124m'\u001b[39m], row[\u001b[38;5;124m'\u001b[39m\u001b[38;5;124mratings\u001b[39m\u001b[38;5;124m'\u001b[39m], row[\u001b[38;5;124m'\u001b[39m\u001b[38;5;124mreviews\u001b[39m\u001b[38;5;124m'\u001b[39m], \u001b[38;5;28mint\u001b[39m(row[\u001b[38;5;124m'\u001b[39m\u001b[38;5;124mcount\u001b[39m\u001b[38;5;124m'\u001b[39m]),\n\u001b[0;32m     18\u001b[0m                         row[\u001b[38;5;124m'\u001b[39m\u001b[38;5;124msentiments\u001b[39m\u001b[38;5;124m'\u001b[39m], row[\u001b[38;5;124m'\u001b[39m\u001b[38;5;124msummaries\u001b[39m\u001b[38;5;124m'\u001b[39m], row[\u001b[38;5;124m'\u001b[39m\u001b[38;5;124msentiment_label\u001b[39m\u001b[38;5;124m'\u001b[39m], \u001b[38;5;28mint\u001b[39m(row[\u001b[38;5;124m'\u001b[39m\u001b[38;5;124mindex\u001b[39m\u001b[38;5;124m'\u001b[39m])\n\u001b[0;32m     19\u001b[0m                     ))\n",
      "\u001b[1;31mOperationalError\u001b[0m: no such table: zomato_restaurant"
     ]
    }
   ],
   "source": [
    "insert_data_from_csv(cursor, 'zomato_cleaned.csv')\n"
   ]
  },
  {
   "cell_type": "code",
   "execution_count": null,
   "metadata": {},
   "outputs": [],
   "source": [
    "connection.commit()\n"
   ]
  },
  {
   "cell_type": "code",
   "execution_count": 7,
   "metadata": {},
   "outputs": [],
   "source": [
    "connection.close()\n"
   ]
  },
  {
   "cell_type": "code",
   "execution_count": null,
   "metadata": {},
   "outputs": [],
   "source": []
  },
  {
   "cell_type": "code",
   "execution_count": null,
   "metadata": {},
   "outputs": [],
   "source": []
  },
  {
   "cell_type": "code",
   "execution_count": null,
   "metadata": {},
   "outputs": [],
   "source": []
  },
  {
   "cell_type": "code",
   "execution_count": null,
   "metadata": {},
   "outputs": [],
   "source": []
  },
  {
   "cell_type": "code",
   "execution_count": null,
   "metadata": {},
   "outputs": [],
   "source": []
  },
  {
   "cell_type": "code",
   "execution_count": null,
   "metadata": {},
   "outputs": [],
   "source": []
  }
 ],
 "metadata": {
  "kernelspec": {
   "display_name": "venv",
   "language": "python",
   "name": "python3"
  },
  "language_info": {
   "codemirror_mode": {
    "name": "ipython",
    "version": 3
   },
   "file_extension": ".py",
   "mimetype": "text/x-python",
   "name": "python",
   "nbconvert_exporter": "python",
   "pygments_lexer": "ipython3",
   "version": "3.11.5"
  }
 },
 "nbformat": 4,
 "nbformat_minor": 2
}
